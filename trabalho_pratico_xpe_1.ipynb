{
  "cells": [
    {
      "cell_type": "markdown",
      "metadata": {
        "id": "view-in-github",
        "colab_type": "text"
      },
      "source": [
        "<a href=\"https://colab.research.google.com/github/pedrocsv/DataIntroduction/blob/main/trabalho_pratico_xpe_1.ipynb\" target=\"_parent\"><img src=\"https://colab.research.google.com/assets/colab-badge.svg\" alt=\"Open In Colab\"/></a>"
      ]
    },
    {
      "cell_type": "markdown",
      "id": "f684c7ce",
      "metadata": {
        "id": "f684c7ce"
      },
      "source": [
        "# Importação das bibliotecas"
      ]
    },
    {
      "cell_type": "code",
      "execution_count": null,
      "id": "6ea9b187",
      "metadata": {
        "id": "6ea9b187"
      },
      "outputs": [],
      "source": [
        "import pandas as pd\n",
        "import numpy as np\n",
        "from sklearn.metrics import mean_absolute_error, mean_squared_error\n",
        "from sklearn.linear_model import LinearRegression\n",
        "import plotly.express as pt\n",
        "import seaborn as sns\n"
      ]
    },
    {
      "cell_type": "markdown",
      "id": "16b9d7c6",
      "metadata": {
        "id": "16b9d7c6"
      },
      "source": [
        "# Leitura dos dados"
      ]
    },
    {
      "cell_type": "code",
      "execution_count": null,
      "id": "b08dbfe5",
      "metadata": {
        "id": "b08dbfe5"
      },
      "outputs": [],
      "source": [
        "dados= pd.read_csv('frete_dias.txt')"
      ]
    },
    {
      "cell_type": "code",
      "execution_count": null,
      "id": "ce807e09",
      "metadata": {
        "id": "ce807e09",
        "outputId": "8165ca0f-1710-437d-9f7d-58d4421245c6"
      },
      "outputs": [
        {
          "data": {
            "text/html": [
              "<div>\n",
              "<style scoped>\n",
              "    .dataframe tbody tr th:only-of-type {\n",
              "        vertical-align: middle;\n",
              "    }\n",
              "\n",
              "    .dataframe tbody tr th {\n",
              "        vertical-align: top;\n",
              "    }\n",
              "\n",
              "    .dataframe thead th {\n",
              "        text-align: right;\n",
              "    }\n",
              "</style>\n",
              "<table border=\"1\" class=\"dataframe\">\n",
              "  <thead>\n",
              "    <tr style=\"text-align: right;\">\n",
              "      <th></th>\n",
              "      <th>Região</th>\n",
              "      <th>Valor do Frete</th>\n",
              "      <th>Dias para Entrega</th>\n",
              "    </tr>\n",
              "  </thead>\n",
              "  <tbody>\n",
              "    <tr>\n",
              "      <th>0</th>\n",
              "      <td>Norte</td>\n",
              "      <td>49.59</td>\n",
              "      <td>20.0</td>\n",
              "    </tr>\n",
              "    <tr>\n",
              "      <th>1</th>\n",
              "      <td>Norte</td>\n",
              "      <td>117.57</td>\n",
              "      <td>3.0</td>\n",
              "    </tr>\n",
              "    <tr>\n",
              "      <th>2</th>\n",
              "      <td>Norte</td>\n",
              "      <td>98.15</td>\n",
              "      <td>7.0</td>\n",
              "    </tr>\n",
              "    <tr>\n",
              "      <th>3</th>\n",
              "      <td>Norte</td>\n",
              "      <td>96.98</td>\n",
              "      <td>6.0</td>\n",
              "    </tr>\n",
              "    <tr>\n",
              "      <th>4</th>\n",
              "      <td>Norte</td>\n",
              "      <td>123.00</td>\n",
              "      <td>6.0</td>\n",
              "    </tr>\n",
              "    <tr>\n",
              "      <th>...</th>\n",
              "      <td>...</td>\n",
              "      <td>...</td>\n",
              "      <td>...</td>\n",
              "    </tr>\n",
              "    <tr>\n",
              "      <th>495</th>\n",
              "      <td>Centro-Oeste</td>\n",
              "      <td>88.72</td>\n",
              "      <td>7.0</td>\n",
              "    </tr>\n",
              "    <tr>\n",
              "      <th>496</th>\n",
              "      <td>Centro-Oeste</td>\n",
              "      <td>66.35</td>\n",
              "      <td>11.0</td>\n",
              "    </tr>\n",
              "    <tr>\n",
              "      <th>497</th>\n",
              "      <td>Centro-Oeste</td>\n",
              "      <td>41.56</td>\n",
              "      <td>22.0</td>\n",
              "    </tr>\n",
              "    <tr>\n",
              "      <th>498</th>\n",
              "      <td>Centro-Oeste</td>\n",
              "      <td>73.28</td>\n",
              "      <td>9.0</td>\n",
              "    </tr>\n",
              "    <tr>\n",
              "      <th>499</th>\n",
              "      <td>Centro-Oeste</td>\n",
              "      <td>60.75</td>\n",
              "      <td>14.0</td>\n",
              "    </tr>\n",
              "  </tbody>\n",
              "</table>\n",
              "<p>500 rows × 3 columns</p>\n",
              "</div>"
            ],
            "text/plain": [
              "           Região  Valor do Frete  Dias para Entrega\n",
              "0           Norte           49.59               20.0\n",
              "1           Norte          117.57                3.0\n",
              "2           Norte           98.15                7.0\n",
              "3           Norte           96.98                6.0\n",
              "4           Norte          123.00                6.0\n",
              "..            ...             ...                ...\n",
              "495  Centro-Oeste           88.72                7.0\n",
              "496  Centro-Oeste           66.35               11.0\n",
              "497  Centro-Oeste           41.56               22.0\n",
              "498  Centro-Oeste           73.28                9.0\n",
              "499  Centro-Oeste           60.75               14.0\n",
              "\n",
              "[500 rows x 3 columns]"
            ]
          },
          "execution_count": 16,
          "metadata": {},
          "output_type": "execute_result"
        }
      ],
      "source": [
        "dados"
      ]
    },
    {
      "cell_type": "markdown",
      "id": "db4961cd",
      "metadata": {
        "id": "db4961cd"
      },
      "source": [
        "# Filtrando os dados da região sudeste"
      ]
    },
    {
      "cell_type": "code",
      "execution_count": null,
      "id": "370a14c1",
      "metadata": {
        "id": "370a14c1"
      },
      "outputs": [],
      "source": [
        "dados_sudeste = dados[dados['Região']=='Sudeste']"
      ]
    },
    {
      "cell_type": "code",
      "execution_count": null,
      "id": "015c0445",
      "metadata": {
        "id": "015c0445",
        "outputId": "1496c28e-7917-4b60-82f0-22f0e2416904"
      },
      "outputs": [
        {
          "data": {
            "text/html": [
              "<div>\n",
              "<style scoped>\n",
              "    .dataframe tbody tr th:only-of-type {\n",
              "        vertical-align: middle;\n",
              "    }\n",
              "\n",
              "    .dataframe tbody tr th {\n",
              "        vertical-align: top;\n",
              "    }\n",
              "\n",
              "    .dataframe thead th {\n",
              "        text-align: right;\n",
              "    }\n",
              "</style>\n",
              "<table border=\"1\" class=\"dataframe\">\n",
              "  <thead>\n",
              "    <tr style=\"text-align: right;\">\n",
              "      <th></th>\n",
              "      <th>Região</th>\n",
              "      <th>Valor do Frete</th>\n",
              "      <th>Dias para Entrega</th>\n",
              "    </tr>\n",
              "  </thead>\n",
              "  <tbody>\n",
              "    <tr>\n",
              "      <th>200</th>\n",
              "      <td>Sudeste</td>\n",
              "      <td>106.04</td>\n",
              "      <td>8.0</td>\n",
              "    </tr>\n",
              "    <tr>\n",
              "      <th>201</th>\n",
              "      <td>Sudeste</td>\n",
              "      <td>103.51</td>\n",
              "      <td>1.0</td>\n",
              "    </tr>\n",
              "    <tr>\n",
              "      <th>202</th>\n",
              "      <td>Sudeste</td>\n",
              "      <td>82.69</td>\n",
              "      <td>13.0</td>\n",
              "    </tr>\n",
              "    <tr>\n",
              "      <th>203</th>\n",
              "      <td>Sudeste</td>\n",
              "      <td>108.23</td>\n",
              "      <td>4.0</td>\n",
              "    </tr>\n",
              "    <tr>\n",
              "      <th>204</th>\n",
              "      <td>Sudeste</td>\n",
              "      <td>116.11</td>\n",
              "      <td>1.0</td>\n",
              "    </tr>\n",
              "    <tr>\n",
              "      <th>...</th>\n",
              "      <td>...</td>\n",
              "      <td>...</td>\n",
              "      <td>...</td>\n",
              "    </tr>\n",
              "    <tr>\n",
              "      <th>295</th>\n",
              "      <td>Sudeste</td>\n",
              "      <td>84.04</td>\n",
              "      <td>5.0</td>\n",
              "    </tr>\n",
              "    <tr>\n",
              "      <th>296</th>\n",
              "      <td>Sudeste</td>\n",
              "      <td>108.20</td>\n",
              "      <td>4.0</td>\n",
              "    </tr>\n",
              "    <tr>\n",
              "      <th>297</th>\n",
              "      <td>Sudeste</td>\n",
              "      <td>96.42</td>\n",
              "      <td>4.0</td>\n",
              "    </tr>\n",
              "    <tr>\n",
              "      <th>298</th>\n",
              "      <td>Sudeste</td>\n",
              "      <td>115.34</td>\n",
              "      <td>5.0</td>\n",
              "    </tr>\n",
              "    <tr>\n",
              "      <th>299</th>\n",
              "      <td>Sudeste</td>\n",
              "      <td>70.30</td>\n",
              "      <td>13.0</td>\n",
              "    </tr>\n",
              "  </tbody>\n",
              "</table>\n",
              "<p>100 rows × 3 columns</p>\n",
              "</div>"
            ],
            "text/plain": [
              "      Região  Valor do Frete  Dias para Entrega\n",
              "200  Sudeste          106.04                8.0\n",
              "201  Sudeste          103.51                1.0\n",
              "202  Sudeste           82.69               13.0\n",
              "203  Sudeste          108.23                4.0\n",
              "204  Sudeste          116.11                1.0\n",
              "..       ...             ...                ...\n",
              "295  Sudeste           84.04                5.0\n",
              "296  Sudeste          108.20                4.0\n",
              "297  Sudeste           96.42                4.0\n",
              "298  Sudeste          115.34                5.0\n",
              "299  Sudeste           70.30               13.0\n",
              "\n",
              "[100 rows x 3 columns]"
            ]
          },
          "execution_count": 9,
          "metadata": {},
          "output_type": "execute_result"
        }
      ],
      "source": [
        "dados_sudeste"
      ]
    },
    {
      "cell_type": "markdown",
      "id": "167b01db",
      "metadata": {
        "id": "167b01db"
      },
      "source": [
        "# Estatísticas dados_sudeste"
      ]
    },
    {
      "cell_type": "code",
      "execution_count": null,
      "id": "15a3c515",
      "metadata": {
        "id": "15a3c515",
        "outputId": "32f999ac-260c-493e-ba58-e7cc68110372",
        "colab": {
          "base_uri": "https://localhost:8080/",
          "height": 165
        }
      },
      "outputs": [
        {
          "output_type": "error",
          "ename": "NameError",
          "evalue": "ignored",
          "traceback": [
            "\u001b[0;31m---------------------------------------------------------------------------\u001b[0m",
            "\u001b[0;31mNameError\u001b[0m                                 Traceback (most recent call last)",
            "\u001b[0;32m<ipython-input-1-ace28b5900ef>\u001b[0m in \u001b[0;36m<cell line: 1>\u001b[0;34m()\u001b[0m\n\u001b[0;32m----> 1\u001b[0;31m \u001b[0mdados_sudeste\u001b[0m\u001b[0;34m.\u001b[0m\u001b[0mdescribe\u001b[0m\u001b[0;34m(\u001b[0m\u001b[0;34m)\u001b[0m\u001b[0;34m\u001b[0m\u001b[0;34m\u001b[0m\u001b[0m\n\u001b[0m",
            "\u001b[0;31mNameError\u001b[0m: name 'dados_sudeste' is not defined"
          ]
        }
      ],
      "source": [
        "dados_sudeste.describe()"
      ]
    },
    {
      "cell_type": "markdown",
      "id": "388eded3",
      "metadata": {
        "id": "388eded3"
      },
      "source": [
        "# Verificando valores nulos ou ausentes"
      ]
    },
    {
      "cell_type": "code",
      "execution_count": null,
      "id": "683d06fa",
      "metadata": {
        "id": "683d06fa",
        "outputId": "d821295e-c28c-491b-b154-1d0326db6b64"
      },
      "outputs": [
        {
          "data": {
            "text/plain": [
              "Região               0\n",
              "Valor do Frete       0\n",
              "Dias para Entrega    0\n",
              "dtype: int64"
            ]
          },
          "execution_count": 24,
          "metadata": {},
          "output_type": "execute_result"
        }
      ],
      "source": [
        "dados_sudeste.isna().sum()"
      ]
    },
    {
      "cell_type": "markdown",
      "id": "e23dea56",
      "metadata": {
        "id": "e23dea56"
      },
      "source": [
        "# Verificando tipos de dados"
      ]
    },
    {
      "cell_type": "code",
      "execution_count": null,
      "id": "da45c196",
      "metadata": {
        "id": "da45c196",
        "outputId": "f0285219-be1d-4f16-9e55-56b12d6eed45"
      },
      "outputs": [
        {
          "name": "stdout",
          "output_type": "stream",
          "text": [
            "<class 'pandas.core.frame.DataFrame'>\n",
            "Int64Index: 100 entries, 200 to 299\n",
            "Data columns (total 3 columns):\n",
            " #   Column             Non-Null Count  Dtype  \n",
            "---  ------             --------------  -----  \n",
            " 0   Região             100 non-null    object \n",
            " 1   Valor do Frete     100 non-null    float64\n",
            " 2   Dias para Entrega  100 non-null    float64\n",
            "dtypes: float64(2), object(1)\n",
            "memory usage: 3.1+ KB\n"
          ]
        }
      ],
      "source": [
        "dados_sudeste.info()"
      ]
    },
    {
      "cell_type": "markdown",
      "id": "24eeef17",
      "metadata": {
        "id": "24eeef17"
      },
      "source": [
        "# Análise da correlação das variáveis"
      ]
    },
    {
      "cell_type": "code",
      "execution_count": null,
      "id": "f13cbc98",
      "metadata": {
        "id": "f13cbc98",
        "outputId": "6d9d1a2c-16ac-4558-e6dc-4086e1e9e9a3"
      },
      "outputs": [
        {
          "name": "stderr",
          "output_type": "stream",
          "text": [
            "C:\\Users\\SGTME\\AppData\\Local\\Temp\\ipykernel_8536\\3069098248.py:1: FutureWarning: The default value of numeric_only in DataFrame.corr is deprecated. In a future version, it will default to False. Select only valid columns or specify the value of numeric_only to silence this warning.\n",
            "  dados_sudeste.corr()\n"
          ]
        },
        {
          "data": {
            "text/html": [
              "<div>\n",
              "<style scoped>\n",
              "    .dataframe tbody tr th:only-of-type {\n",
              "        vertical-align: middle;\n",
              "    }\n",
              "\n",
              "    .dataframe tbody tr th {\n",
              "        vertical-align: top;\n",
              "    }\n",
              "\n",
              "    .dataframe thead th {\n",
              "        text-align: right;\n",
              "    }\n",
              "</style>\n",
              "<table border=\"1\" class=\"dataframe\">\n",
              "  <thead>\n",
              "    <tr style=\"text-align: right;\">\n",
              "      <th></th>\n",
              "      <th>Valor do Frete</th>\n",
              "      <th>Dias para Entrega</th>\n",
              "    </tr>\n",
              "  </thead>\n",
              "  <tbody>\n",
              "    <tr>\n",
              "      <th>Valor do Frete</th>\n",
              "      <td>1.000000</td>\n",
              "      <td>-0.900648</td>\n",
              "    </tr>\n",
              "    <tr>\n",
              "      <th>Dias para Entrega</th>\n",
              "      <td>-0.900648</td>\n",
              "      <td>1.000000</td>\n",
              "    </tr>\n",
              "  </tbody>\n",
              "</table>\n",
              "</div>"
            ],
            "text/plain": [
              "                   Valor do Frete  Dias para Entrega\n",
              "Valor do Frete           1.000000          -0.900648\n",
              "Dias para Entrega       -0.900648           1.000000"
            ]
          },
          "execution_count": 28,
          "metadata": {},
          "output_type": "execute_result"
        }
      ],
      "source": [
        "dados_sudeste.corr()"
      ]
    },
    {
      "cell_type": "markdown",
      "id": "37a0ee2e",
      "metadata": {
        "id": "37a0ee2e"
      },
      "source": [
        "# Análise gráfica da correlação entre as variáveis"
      ]
    },
    {
      "cell_type": "code",
      "execution_count": null,
      "id": "938ade7b",
      "metadata": {
        "id": "938ade7b",
        "outputId": "9f101ff7-c81b-4f35-84c8-c5a788457cfd"
      },
      "outputs": [
        {
          "name": "stderr",
          "output_type": "stream",
          "text": [
            "C:\\Users\\SGTME\\AppData\\Local\\Temp\\ipykernel_8536\\3491654038.py:1: FutureWarning: The default value of numeric_only in DataFrame.corr is deprecated. In a future version, it will default to False. Select only valid columns or specify the value of numeric_only to silence this warning.\n",
            "  correlacao = dados_sudeste.corr()\n"
          ]
        },
        {
          "data": {
            "text/plain": [
              "<Axes: >"
            ]
          },
          "execution_count": 30,
          "metadata": {},
          "output_type": "execute_result"
        },
        {
          "data": {
            "image/png": "[encoded data removed]",
            "text/plain": [
              "<Figure size 640x480 with 2 Axes>"
            ]
          },
          "metadata": {},
          "output_type": "display_data"
        }
      ],
      "source": [
        "correlacao = dados_sudeste.corr()\n",
        "sns.heatmap(correlacao, annot=True)"
      ]
    },
    {
      "cell_type": "markdown",
      "id": "04bcda3d",
      "metadata": {
        "id": "04bcda3d"
      },
      "source": [
        "# Tratamento de dados"
      ]
    },
    {
      "cell_type": "code",
      "execution_count": null,
      "id": "40110e83",
      "metadata": {
        "id": "40110e83"
      },
      "outputs": [],
      "source": [
        "x= dados_sudeste.iloc[:,1].values"
      ]
    },
    {
      "cell_type": "code",
      "execution_count": null,
      "id": "6332904a",
      "metadata": {
        "id": "6332904a",
        "outputId": "66140afa-9b36-4048-fad6-da960c7f20cc"
      },
      "outputs": [
        {
          "data": {
            "text/plain": [
              "array([106.04, 103.51,  82.69, 108.23, 116.11, 116.26,  92.89, 116.46,\n",
              "       111.23,  48.95,  41.5 ,  78.98, 102.68,  63.54,  92.67,  49.36,\n",
              "        59.45,  89.51,  91.84,  70.88, 115.21,  60.42, 119.57,  66.  ,\n",
              "       118.7 ,  37.7 ,  88.29,  56.9 ,  87.75, 101.31,  82.85,  65.84,\n",
              "        96.94,  68.87,  33.47,  60.72, 100.98, 106.64, 109.98,  84.89,\n",
              "        76.32, 100.53, 117.47,  86.73, 115.8 ,  69.96,  98.35,  84.64,\n",
              "       118.49,  94.12,  89.33,  82.59, 100.33, 117.05,  85.69,  59.6 ,\n",
              "       108.99,  95.84, 118.57,  50.12,  80.26,  74.58,  57.69,  60.26,\n",
              "       115.93,  88.84,  92.82,  89.15,  96.69, 114.66, 114.56,  60.02,\n",
              "        91.63, 119.06,  98.77,  88.12,  59.78,  95.71,  74.45,  95.53,\n",
              "        87.85, 109.58,  19.17, 107.31, 107.27,  93.99,  83.67,  73.73,\n",
              "        84.72,  75.63,  78.52,  77.17,  51.31,  46.94, 102.65,  84.04,\n",
              "       108.2 ,  96.42, 115.34,  70.3 ])"
            ]
          },
          "execution_count": 34,
          "metadata": {},
          "output_type": "execute_result"
        }
      ],
      "source": [
        "x"
      ]
    },
    {
      "cell_type": "code",
      "execution_count": null,
      "id": "1dda4505",
      "metadata": {
        "id": "1dda4505"
      },
      "outputs": [],
      "source": [
        "x = x.reshape(-1,1)"
      ]
    },
    {
      "cell_type": "code",
      "execution_count": null,
      "id": "4c000a81",
      "metadata": {
        "id": "4c000a81"
      },
      "outputs": [],
      "source": [
        "y= dados_sudeste.iloc[:,2].values"
      ]
    },
    {
      "cell_type": "markdown",
      "id": "2ef34fcc",
      "metadata": {
        "id": "2ef34fcc"
      },
      "source": [
        "# Criando modelo de regressão linear "
      ]
    },
    {
      "cell_type": "code",
      "execution_count": null,
      "id": "28644878",
      "metadata": {
        "id": "28644878"
      },
      "outputs": [],
      "source": [
        "modelo = LinearRegression()"
      ]
    },
    {
      "cell_type": "code",
      "execution_count": null,
      "id": "db1cd950",
      "metadata": {
        "id": "db1cd950",
        "outputId": "9e13acf5-2c80-4633-e8a5-264f5a49018e"
      },
      "outputs": [
        {
          "data": {
            "text/html": [
              "<style>#sk-container-id-1 {color: black;background-color: white;}#sk-container-id-1 pre{padding: 0;}#sk-container-id-1 div.sk-toggleable {background-color: white;}#sk-container-id-1 label.sk-toggleable__label {cursor: pointer;display: block;width: 100%;margin-bottom: 0;padding: 0.3em;box-sizing: border-box;text-align: center;}#sk-container-id-1 label.sk-toggleable__label-arrow:before {content: \"▸\";float: left;margin-right: 0.25em;color: #696969;}#sk-container-id-1 label.sk-toggleable__label-arrow:hover:before {color: black;}#sk-container-id-1 div.sk-estimator:hover label.sk-toggleable__label-arrow:before {color: black;}#sk-container-id-1 div.sk-toggleable__content {max-height: 0;max-width: 0;overflow: hidden;text-align: left;background-color: #f0f8ff;}#sk-container-id-1 div.sk-toggleable__content pre {margin: 0.2em;color: black;border-radius: 0.25em;background-color: #f0f8ff;}#sk-container-id-1 input.sk-toggleable__control:checked~div.sk-toggleable__content {max-height: 200px;max-width: 100%;overflow: auto;}#sk-container-id-1 input.sk-toggleable__control:checked~label.sk-toggleable__label-arrow:before {content: \"▾\";}#sk-container-id-1 div.sk-estimator input.sk-toggleable__control:checked~label.sk-toggleable__label {background-color: #d4ebff;}#sk-container-id-1 div.sk-label input.sk-toggleable__control:checked~label.sk-toggleable__label {background-color: #d4ebff;}#sk-container-id-1 input.sk-hidden--visually {border: 0;clip: rect(1px 1px 1px 1px);clip: rect(1px, 1px, 1px, 1px);height: 1px;margin: -1px;overflow: hidden;padding: 0;position: absolute;width: 1px;}#sk-container-id-1 div.sk-estimator {font-family: monospace;background-color: #f0f8ff;border: 1px dotted black;border-radius: 0.25em;box-sizing: border-box;margin-bottom: 0.5em;}#sk-container-id-1 div.sk-estimator:hover {background-color: #d4ebff;}#sk-container-id-1 div.sk-parallel-item::after {content: \"\";width: 100%;border-bottom: 1px solid gray;flex-grow: 1;}#sk-container-id-1 div.sk-label:hover label.sk-toggleable__label {background-color: #d4ebff;}#sk-container-id-1 div.sk-serial::before {content: \"\";position: absolute;border-left: 1px solid gray;box-sizing: border-box;top: 0;bottom: 0;left: 50%;z-index: 0;}#sk-container-id-1 div.sk-serial {display: flex;flex-direction: column;align-items: center;background-color: white;padding-right: 0.2em;padding-left: 0.2em;position: relative;}#sk-container-id-1 div.sk-item {position: relative;z-index: 1;}#sk-container-id-1 div.sk-parallel {display: flex;align-items: stretch;justify-content: center;background-color: white;position: relative;}#sk-container-id-1 div.sk-item::before, #sk-container-id-1 div.sk-parallel-item::before {content: \"\";position: absolute;border-left: 1px solid gray;box-sizing: border-box;top: 0;bottom: 0;left: 50%;z-index: -1;}#sk-container-id-1 div.sk-parallel-item {display: flex;flex-direction: column;z-index: 1;position: relative;background-color: white;}#sk-container-id-1 div.sk-parallel-item:first-child::after {align-self: flex-end;width: 50%;}#sk-container-id-1 div.sk-parallel-item:last-child::after {align-self: flex-start;width: 50%;}#sk-container-id-1 div.sk-parallel-item:only-child::after {width: 0;}#sk-container-id-1 div.sk-dashed-wrapped {border: 1px dashed gray;margin: 0 0.4em 0.5em 0.4em;box-sizing: border-box;padding-bottom: 0.4em;background-color: white;}#sk-container-id-1 div.sk-label label {font-family: monospace;font-weight: bold;display: inline-block;line-height: 1.2em;}#sk-container-id-1 div.sk-label-container {text-align: center;}#sk-container-id-1 div.sk-container {/* jupyter's `normalize.less` sets `[hidden] { display: none; }` but bootstrap.min.css set `[hidden] { display: none !important; }` so we also need the `!important` here to be able to override the default hidden behavior on the sphinx rendered scikit-learn.org. See: https://github.com/scikit-learn/scikit-learn/issues/21755 */display: inline-block !important;position: relative;}#sk-container-id-1 div.sk-text-repr-fallback {display: none;}</style><div id=\"sk-container-id-1\" class=\"sk-top-container\"><div class=\"sk-text-repr-fallback\"><pre>LinearRegression()</pre><b>In a Jupyter environment, please rerun this cell to show the HTML representation or trust the notebook. <br />On GitHub, the HTML representation is unable to render, please try loading this page with nbviewer.org.</b></div><div class=\"sk-container\" hidden><div class=\"sk-item\"><div class=\"sk-estimator sk-toggleable\"><input class=\"sk-toggleable__control sk-hidden--visually\" id=\"sk-estimator-id-1\" type=\"checkbox\" checked><label for=\"sk-estimator-id-1\" class=\"sk-toggleable__label sk-toggleable__label-arrow\">LinearRegression</label><div class=\"sk-toggleable__content\"><pre>LinearRegression()</pre></div></div></div></div></div>"
            ],
            "text/plain": [
              "LinearRegression()"
            ]
          },
          "execution_count": 46,
          "metadata": {},
          "output_type": "execute_result"
        }
      ],
      "source": [
        "modelo.fit(x,y)"
      ]
    },
    {
      "cell_type": "markdown",
      "id": "f22418cd",
      "metadata": {
        "id": "f22418cd"
      },
      "source": [
        "# Calculando a constante alfa-intercept "
      ]
    },
    {
      "cell_type": "code",
      "execution_count": null,
      "id": "61f98707",
      "metadata": {
        "id": "61f98707",
        "outputId": "4666aa65-0c9f-488d-ef35-e5e050b161eb"
      },
      "outputs": [
        {
          "data": {
            "text/plain": [
              "27.94772254633564"
            ]
          },
          "execution_count": 49,
          "metadata": {},
          "output_type": "execute_result"
        }
      ],
      "source": [
        "modelo.intercept_"
      ]
    },
    {
      "cell_type": "markdown",
      "id": "197f04d0",
      "metadata": {
        "id": "197f04d0"
      },
      "source": [
        "# Calculando o coeficiente angular da reta -coef"
      ]
    },
    {
      "cell_type": "code",
      "execution_count": null,
      "id": "a2063f30",
      "metadata": {
        "id": "a2063f30",
        "outputId": "33f575fe-039e-46f7-f3dd-a214f1860099"
      },
      "outputs": [
        {
          "data": {
            "text/plain": [
              "array([-0.22741735])"
            ]
          },
          "execution_count": 50,
          "metadata": {},
          "output_type": "execute_result"
        }
      ],
      "source": [
        "modelo.coef_"
      ]
    },
    {
      "cell_type": "markdown",
      "id": "410813a7",
      "metadata": {
        "id": "410813a7"
      },
      "source": [
        "# Realizando a predição dos dias para entrega"
      ]
    },
    {
      "cell_type": "code",
      "execution_count": null,
      "id": "ffc8b079",
      "metadata": {
        "id": "ffc8b079"
      },
      "outputs": [],
      "source": [
        "previsao = modelo.predict(x)"
      ]
    },
    {
      "cell_type": "markdown",
      "id": "c4b30aba",
      "metadata": {
        "id": "c4b30aba"
      },
      "source": [
        "# Visualizando gráfica dos dados"
      ]
    },
    {
      "cell_type": "code",
      "execution_count": null,
      "id": "d2715efd",
      "metadata": {
        "id": "d2715efd",
        "outputId": "015ff21e-76b7-48ee-ff62-23a24fcc00a6"
      },
      "outputs": [
        {
          "data": {
            "application/vnd.plotly.v1+json": {
              "config": {
                "plotlyServerURL": "https://plot.ly"
              },
              "data": [
                {
                  "hovertemplate": "x=%{x}<br>y=%{y}<extra></extra>",
                  "legendgroup": "",
                  "marker": {
                    "color": "#636efa",
                    "symbol": "circle"
                  },
                  "mode": "markers",
                  "name": "",
                  "orientation": "v",
                  "showlegend": false,
                  "type": "scatter",
                  "x": [
                    106.04,
                    103.51,
                    82.69,
                    108.23,
                    116.11,
                    116.26,
                    92.89,
                    116.46,
                    111.23,
                    48.95,
                    41.5,
                    78.98,
                    102.68,
                    63.54,
                    92.67,
                    49.36,
                    59.45,
                    89.51,
                    91.84,
                    70.88,
                    115.21,
                    60.42,
                    119.57,
                    66,
                    118.7,
                    37.7,
                    88.29,
                    56.9,
                    87.75,
                    101.31,
                    82.85,
                    65.84,
                    96.94,
                    68.87,
                    33.47,
                    60.72,
                    100.98,
                    106.64,
                    109.98,
                    84.89,
                    76.32,
                    100.53,
                    117.47,
                    86.73,
                    115.8,
                    69.96,
                    98.35,
                    84.64,
                    118.49,
                    94.12,
                    89.33,
                    82.59,
                    100.33,
                    117.05,
                    85.69,
                    59.6,
                    108.99,
                    95.84,
                    118.57,
                    50.12,
                    80.26,
                    74.58,
                    57.69,
                    60.26,
                    115.93,
                    88.84,
                    92.82,
                    89.15,
                    96.69,
                    114.66,
                    114.56,
                    60.02,
                    91.63,
                    119.06,
                    98.77,
                    88.12,
                    59.78,
                    95.71,
                    74.45,
                    95.53,
                    87.85,
                    109.58,
                    19.17,
                    107.31,
                    107.27,
                    93.99,
                    83.67,
                    73.73,
                    84.72,
                    75.63,
                    78.52,
                    77.17,
                    51.31,
                    46.94,
                    102.65,
                    84.04,
                    108.2,
                    96.42,
                    115.34,
                    70.3
                  ],
                  "xaxis": "x",
                  "y": [
                    8,
                    1,
                    13,
                    4,
                    1,
                    2,
                    11,
                    1,
                    4,
                    15,
                    18,
                    7,
                    6,
                    17,
                    9,
                    20,
                    16,
                    3,
                    5,
                    11,
                    2,
                    18,
                    3,
                    13,
                    1,
                    17,
                    5,
                    16,
                    7,
                    4,
                    10,
                    15,
                    5,
                    9,
                    23,
                    12,
                    9,
                    7,
                    1,
                    7,
                    6,
                    4,
                    1,
                    8,
                    1,
                    13,
                    9,
                    6,
                    2,
                    11,
                    11,
                    10,
                    8,
                    1,
                    13,
                    16,
                    1,
                    5,
                    4,
                    19,
                    12,
                    10,
                    13,
                    12,
                    2,
                    3,
                    4,
                    7,
                    8,
                    3,
                    1,
                    16,
                    2,
                    1,
                    2,
                    5,
                    15,
                    2,
                    8,
                    11,
                    5,
                    1,
                    26,
                    4,
                    1,
                    10,
                    7,
                    10,
                    7,
                    13,
                    11,
                    12,
                    16,
                    14,
                    2,
                    5,
                    4,
                    4,
                    5,
                    13
                  ],
                  "yaxis": "y"
                },
                {
                  "type": "scatter",
                  "x": [
                    106.04,
                    103.51,
                    82.69,
                    108.23,
                    116.11,
                    116.26,
                    92.89,
                    116.46,
                    111.23,
                    48.95,
                    41.5,
                    78.98,
                    102.68,
                    63.54,
                    92.67,
                    49.36,
                    59.45,
                    89.51,
                    91.84,
                    70.88,
                    115.21,
                    60.42,
                    119.57,
                    66,
                    118.7,
                    37.7,
                    88.29,
                    56.9,
                    87.75,
                    101.31,
                    82.85,
                    65.84,
                    96.94,
                    68.87,
                    33.47,
                    60.72,
                    100.98,
                    106.64,
                    109.98,
                    84.89,
                    76.32,
                    100.53,
                    117.47,
                    86.73,
                    115.8,
                    69.96,
                    98.35,
                    84.64,
                    118.49,
                    94.12,
                    89.33,
                    82.59,
                    100.33,
                    117.05,
                    85.69,
                    59.6,
                    108.99,
                    95.84,
                    118.57,
                    50.12,
                    80.26,
                    74.58,
                    57.69,
                    60.26,
                    115.93,
                    88.84,
                    92.82,
                    89.15,
                    96.69,
                    114.66,
                    114.56,
                    60.02,
                    91.63,
                    119.06,
                    98.77,
                    88.12,
                    59.78,
                    95.71,
                    74.45,
                    95.53,
                    87.85,
                    109.58,
                    19.17,
                    107.31,
                    107.27,
                    93.99,
                    83.67,
                    73.73,
                    84.72,
                    75.63,
                    78.52,
                    77.17,
                    51.31,
                    46.94,
                    102.65,
                    84.04,
                    108.2,
                    96.42,
                    115.34,
                    70.3
                  ],
                  "y": [
                    3.832387043552167,
                    4.4077529321040565,
                    9.142582101926312,
                    3.33434305306654,
                    1.542294356707302,
                    1.508181754619244,
                    6.822925159938464,
                    1.462698285168507,
                    2.6520910113054086,
                    16.815643398266506,
                    18.509902635306652,
                    9.986300460237576,
                    4.596509330324636,
                    13.497624301834868,
                    6.8729569763342795,
                    16.722402285892485,
                    14.427761252102545,
                    7.591595793656005,
                    7.061713374554859,
                    11.828380972992633,
                    1.7469699692356428,
                    14.207166425266445,
                    0.7554303352094642,
                    12.938177627590742,
                    0.9532834273201907,
                    19.374088554870752,
                    7.86904495730553,
                    15.007675487599508,
                    7.991850324822536,
                    4.908071096062219,
                    9.106195326365718,
                    12.974564403151334,
                    5.901884903560937,
                    12.285489840972591,
                    20.336063933753948,
                    14.138941221090333,
                    4.9831188206559425,
                    3.695936635199942,
                    2.936362695372548,
                    8.64226393796815,
                    10.591230603932448,
                    5.085456626920113,
                    1.2330067644422549,
                    8.22381601902132,
                    1.6127937343559537,
                    12.037604932466047,
                    5.581226443933204,
                    8.699118274781576,
                    1.001041070243474,
                    6.543201822816396,
                    7.632530916161674,
                    9.16532383665168,
                    5.130940096370857,
                    1.3285220502888144,
                    8.46033006016518,
                    14.39364865001449,
                    3.161505869153725,
                    6.152043985540015,
                    0.9828476824631771,
                    16.549565101979667,
                    9.695206255752826,
                    10.986936788153905,
                    14.828015783269077,
                    14.24355320082704,
                    1.5832294792129673,
                    7.743965416315991,
                    6.838844374246225,
                    7.673466038667339,
                    5.9587392403743635,
                    1.8720495102251853,
                    1.8947912449505537,
                    14.29813336416793,
                    7.109471017478139,
                    0.8714131823088564,
                    5.4857111580866444,
                    7.907705906338663,
                    14.35271352750882,
                    6.181608240683001,
                    11.016501043296884,
                    6.222543363188667,
                    7.969108590097164,
                    3.0273296342740323,
                    23.58813199948201,
                    3.543567012539956,
                    3.5526637064301063,
                    6.572766077959383,
                    8.919713101617674,
                    11.180241533319556,
                    8.680924887001279,
                    10.74814857353751,
                    10.090912439974286,
                    10.397925858766794,
                    16.27893845874775,
                    17.272752266246464,
                    4.603331850742247,
                    8.8355686831338,
                    3.3411655734841545,
                    6.020141924132865,
                    1.71740571409266,
                    11.960283034399787
                  ]
                }
              ],
              "layout": {
                "legend": {
                  "tracegroupgap": 0
                },
                "margin": {
                  "t": 60
                },
                "template": {
                  "data": {
                    "bar": [
                      {
                        "error_x": {
                          "color": "#2a3f5f"
                        },
                        "error_y": {
                          "color": "#2a3f5f"
                        },
                        "marker": {
                          "line": {
                            "color": "#E5ECF6",
                            "width": 0.5
                          },
                          "pattern": {
                            "fillmode": "overlay",
                            "size": 10,
                            "solidity": 0.2
                          }
                        },
                        "type": "bar"
                      }
                    ],
                    "barpolar": [
                      {
                        "marker": {
                          "line": {
                            "color": "#E5ECF6",
                            "width": 0.5
                          },
                          "pattern": {
                            "fillmode": "overlay",
                            "size": 10,
                            "solidity": 0.2
                          }
                        },
                        "type": "barpolar"
                      }
                    ],
                    "carpet": [
                      {
                        "aaxis": {
                          "endlinecolor": "#2a3f5f",
                          "gridcolor": "white",
                          "linecolor": "white",
                          "minorgridcolor": "white",
                          "startlinecolor": "#2a3f5f"
                        },
                        "baxis": {
                          "endlinecolor": "#2a3f5f",
                          "gridcolor": "white",
                          "linecolor": "white",
                          "minorgridcolor": "white",
                          "startlinecolor": "#2a3f5f"
                        },
                        "type": "carpet"
                      }
                    ],
                    "choropleth": [
                      {
                        "colorbar": {
                          "outlinewidth": 0,
                          "ticks": ""
                        },
                        "type": "choropleth"
                      }
                    ],
                    "contour": [
                      {
                        "colorbar": {
                          "outlinewidth": 0,
                          "ticks": ""
                        },
                        "colorscale": [
                          [
                            0,
                            "#0d0887"
                          ],
                          [
                            0.1111111111111111,
                            "#46039f"
                          ],
                          [
                            0.2222222222222222,
                            "#7201a8"
                          ],
                          [
                            0.3333333333333333,
                            "#9c179e"
                          ],
                          [
                            0.4444444444444444,
                            "#bd3786"
                          ],
                          [
                            0.5555555555555556,
                            "#d8576b"
                          ],
                          [
                            0.6666666666666666,
                            "#ed7953"
                          ],
                          [
                            0.7777777777777778,
                            "#fb9f3a"
                          ],
                          [
                            0.8888888888888888,
                            "#fdca26"
                          ],
                          [
                            1,
                            "#f0f921"
                          ]
                        ],
                        "type": "contour"
                      }
                    ],
                    "contourcarpet": [
                      {
                        "colorbar": {
                          "outlinewidth": 0,
                          "ticks": ""
                        },
                        "type": "contourcarpet"
                      }
                    ],
                    "heatmap": [
                      {
                        "colorbar": {
                          "outlinewidth": 0,
                          "ticks": ""
                        },
                        "colorscale": [
                          [
                            0,
                            "#0d0887"
                          ],
                          [
                            0.1111111111111111,
                            "#46039f"
                          ],
                          [
                            0.2222222222222222,
                            "#7201a8"
                          ],
                          [
                            0.3333333333333333,
                            "#9c179e"
                          ],
                          [
                            0.4444444444444444,
                            "#bd3786"
                          ],
                          [
                            0.5555555555555556,
                            "#d8576b"
                          ],
                          [
                            0.6666666666666666,
                            "#ed7953"
                          ],
                          [
                            0.7777777777777778,
                            "#fb9f3a"
                          ],
                          [
                            0.8888888888888888,
                            "#fdca26"
                          ],
                          [
                            1,
                            "#f0f921"
                          ]
                        ],
                        "type": "heatmap"
                      }
                    ],
                    "heatmapgl": [
                      {
                        "colorbar": {
                          "outlinewidth": 0,
                          "ticks": ""
                        },
                        "colorscale": [
                          [
                            0,
                            "#0d0887"
                          ],
                          [
                            0.1111111111111111,
                            "#46039f"
                          ],
                          [
                            0.2222222222222222,
                            "#7201a8"
                          ],
                          [
                            0.3333333333333333,
                            "#9c179e"
                          ],
                          [
                            0.4444444444444444,
                            "#bd3786"
                          ],
                          [
                            0.5555555555555556,
                            "#d8576b"
                          ],
                          [
                            0.6666666666666666,
                            "#ed7953"
                          ],
                          [
                            0.7777777777777778,
                            "#fb9f3a"
                          ],
                          [
                            0.8888888888888888,
                            "#fdca26"
                          ],
                          [
                            1,
                            "#f0f921"
                          ]
                        ],
                        "type": "heatmapgl"
                      }
                    ],
                    "histogram": [
                      {
                        "marker": {
                          "pattern": {
                            "fillmode": "overlay",
                            "size": 10,
                            "solidity": 0.2
                          }
                        },
                        "type": "histogram"
                      }
                    ],
                    "histogram2d": [
                      {
                        "colorbar": {
                          "outlinewidth": 0,
                          "ticks": ""
                        },
                        "colorscale": [
                          [
                            0,
                            "#0d0887"
                          ],
                          [
                            0.1111111111111111,
                            "#46039f"
                          ],
                          [
                            0.2222222222222222,
                            "#7201a8"
                          ],
                          [
                            0.3333333333333333,
                            "#9c179e"
                          ],
                          [
                            0.4444444444444444,
                            "#bd3786"
                          ],
                          [
                            0.5555555555555556,
                            "#d8576b"
                          ],
                          [
                            0.6666666666666666,
                            "#ed7953"
                          ],
                          [
                            0.7777777777777778,
                            "#fb9f3a"
                          ],
                          [
                            0.8888888888888888,
                            "#fdca26"
                          ],
                          [
                            1,
                            "#f0f921"
                          ]
                        ],
                        "type": "histogram2d"
                      }
                    ],
                    "histogram2dcontour": [
                      {
                        "colorbar": {
                          "outlinewidth": 0,
                          "ticks": ""
                        },
                        "colorscale": [
                          [
                            0,
                            "#0d0887"
                          ],
                          [
                            0.1111111111111111,
                            "#46039f"
                          ],
                          [
                            0.2222222222222222,
                            "#7201a8"
                          ],
                          [
                            0.3333333333333333,
                            "#9c179e"
                          ],
                          [
                            0.4444444444444444,
                            "#bd3786"
                          ],
                          [
                            0.5555555555555556,
                            "#d8576b"
                          ],
                          [
                            0.6666666666666666,
                            "#ed7953"
                          ],
                          [
                            0.7777777777777778,
                            "#fb9f3a"
                          ],
                          [
                            0.8888888888888888,
                            "#fdca26"
                          ],
                          [
                            1,
                            "#f0f921"
                          ]
                        ],
                        "type": "histogram2dcontour"
                      }
                    ],
                    "mesh3d": [
                      {
                        "colorbar": {
                          "outlinewidth": 0,
                          "ticks": ""
                        },
                        "type": "mesh3d"
                      }
                    ],
                    "parcoords": [
                      {
                        "line": {
                          "colorbar": {
                            "outlinewidth": 0,
                            "ticks": ""
                          }
                        },
                        "type": "parcoords"
                      }
                    ],
                    "pie": [
                      {
                        "automargin": true,
                        "type": "pie"
                      }
                    ],
                    "scatter": [
                      {
                        "fillpattern": {
                          "fillmode": "overlay",
                          "size": 10,
                          "solidity": 0.2
                        },
                        "type": "scatter"
                      }
                    ],
                    "scatter3d": [
                      {
                        "line": {
                          "colorbar": {
                            "outlinewidth": 0,
                            "ticks": ""
                          }
                        },
                        "marker": {
                          "colorbar": {
                            "outlinewidth": 0,
                            "ticks": ""
                          }
                        },
                        "type": "scatter3d"
                      }
                    ],
                    "scattercarpet": [
                      {
                        "marker": {
                          "colorbar": {
                            "outlinewidth": 0,
                            "ticks": ""
                          }
                        },
                        "type": "scattercarpet"
                      }
                    ],
                    "scattergeo": [
                      {
                        "marker": {
                          "colorbar": {
                            "outlinewidth": 0,
                            "ticks": ""
                          }
                        },
                        "type": "scattergeo"
                      }
                    ],
                    "scattergl": [
                      {
                        "marker": {
                          "colorbar": {
                            "outlinewidth": 0,
                            "ticks": ""
                          }
                        },
                        "type": "scattergl"
                      }
                    ],
                    "scattermapbox": [
                      {
                        "marker": {
                          "colorbar": {
                            "outlinewidth": 0,
                            "ticks": ""
                          }
                        },
                        "type": "scattermapbox"
                      }
                    ],
                    "scatterpolar": [
                      {
                        "marker": {
                          "colorbar": {
                            "outlinewidth": 0,
                            "ticks": ""
                          }
                        },
                        "type": "scatterpolar"
                      }
                    ],
                    "scatterpolargl": [
                      {
                        "marker": {
                          "colorbar": {
                            "outlinewidth": 0,
                            "ticks": ""
                          }
                        },
                        "type": "scatterpolargl"
                      }
                    ],
                    "scatterternary": [
                      {
                        "marker": {
                          "colorbar": {
                            "outlinewidth": 0,
                            "ticks": ""
                          }
                        },
                        "type": "scatterternary"
                      }
                    ],
                    "surface": [
                      {
                        "colorbar": {
                          "outlinewidth": 0,
                          "ticks": ""
                        },
                        "colorscale": [
                          [
                            0,
                            "#0d0887"
                          ],
                          [
                            0.1111111111111111,
                            "#46039f"
                          ],
                          [
                            0.2222222222222222,
                            "#7201a8"
                          ],
                          [
                            0.3333333333333333,
                            "#9c179e"
                          ],
                          [
                            0.4444444444444444,
                            "#bd3786"
                          ],
                          [
                            0.5555555555555556,
                            "#d8576b"
                          ],
                          [
                            0.6666666666666666,
                            "#ed7953"
                          ],
                          [
                            0.7777777777777778,
                            "#fb9f3a"
                          ],
                          [
                            0.8888888888888888,
                            "#fdca26"
                          ],
                          [
                            1,
                            "#f0f921"
                          ]
                        ],
                        "type": "surface"
                      }
                    ],
                    "table": [
                      {
                        "cells": {
                          "fill": {
                            "color": "#EBF0F8"
                          },
                          "line": {
                            "color": "white"
                          }
                        },
                        "header": {
                          "fill": {
                            "color": "#C8D4E3"
                          },
                          "line": {
                            "color": "white"
                          }
                        },
                        "type": "table"
                      }
                    ]
                  },
                  "layout": {
                    "annotationdefaults": {
                      "arrowcolor": "#2a3f5f",
                      "arrowhead": 0,
                      "arrowwidth": 1
                    },
                    "autotypenumbers": "strict",
                    "coloraxis": {
                      "colorbar": {
                        "outlinewidth": 0,
                        "ticks": ""
                      }
                    },
                    "colorscale": {
                      "diverging": [
                        [
                          0,
                          "#8e0152"
                        ],
                        [
                          0.1,
                          "#c51b7d"
                        ],
                        [
                          0.2,
                          "#de77ae"
                        ],
                        [
                          0.3,
                          "#f1b6da"
                        ],
                        [
                          0.4,
                          "#fde0ef"
                        ],
                        [
                          0.5,
                          "#f7f7f7"
                        ],
                        [
                          0.6,
                          "#e6f5d0"
                        ],
                        [
                          0.7,
                          "#b8e186"
                        ],
                        [
                          0.8,
                          "#7fbc41"
                        ],
                        [
                          0.9,
                          "#4d9221"
                        ],
                        [
                          1,
                          "#276419"
                        ]
                      ],
                      "sequential": [
                        [
                          0,
                          "#0d0887"
                        ],
                        [
                          0.1111111111111111,
                          "#46039f"
                        ],
                        [
                          0.2222222222222222,
                          "#7201a8"
                        ],
                        [
                          0.3333333333333333,
                          "#9c179e"
                        ],
                        [
                          0.4444444444444444,
                          "#bd3786"
                        ],
                        [
                          0.5555555555555556,
                          "#d8576b"
                        ],
                        [
                          0.6666666666666666,
                          "#ed7953"
                        ],
                        [
                          0.7777777777777778,
                          "#fb9f3a"
                        ],
                        [
                          0.8888888888888888,
                          "#fdca26"
                        ],
                        [
                          1,
                          "#f0f921"
                        ]
                      ],
                      "sequentialminus": [
                        [
                          0,
                          "#0d0887"
                        ],
                        [
                          0.1111111111111111,
                          "#46039f"
                        ],
                        [
                          0.2222222222222222,
                          "#7201a8"
                        ],
                        [
                          0.3333333333333333,
                          "#9c179e"
                        ],
                        [
                          0.4444444444444444,
                          "#bd3786"
                        ],
                        [
                          0.5555555555555556,
                          "#d8576b"
                        ],
                        [
                          0.6666666666666666,
                          "#ed7953"
                        ],
                        [
                          0.7777777777777778,
                          "#fb9f3a"
                        ],
                        [
                          0.8888888888888888,
                          "#fdca26"
                        ],
                        [
                          1,
                          "#f0f921"
                        ]
                      ]
                    },
                    "colorway": [
                      "#636efa",
                      "#EF553B",
                      "#00cc96",
                      "#ab63fa",
                      "#FFA15A",
                      "#19d3f3",
                      "#FF6692",
                      "#B6E880",
                      "#FF97FF",
                      "#FECB52"
                    ],
                    "font": {
                      "color": "#2a3f5f"
                    },
                    "geo": {
                      "bgcolor": "white",
                      "lakecolor": "white",
                      "landcolor": "#E5ECF6",
                      "showlakes": true,
                      "showland": true,
                      "subunitcolor": "white"
                    },
                    "hoverlabel": {
                      "align": "left"
                    },
                    "hovermode": "closest",
                    "mapbox": {
                      "style": "light"
                    },
                    "paper_bgcolor": "white",
                    "plot_bgcolor": "#E5ECF6",
                    "polar": {
                      "angularaxis": {
                        "gridcolor": "white",
                        "linecolor": "white",
                        "ticks": ""
                      },
                      "bgcolor": "#E5ECF6",
                      "radialaxis": {
                        "gridcolor": "white",
                        "linecolor": "white",
                        "ticks": ""
                      }
                    },
                    "scene": {
                      "xaxis": {
                        "backgroundcolor": "#E5ECF6",
                        "gridcolor": "white",
                        "gridwidth": 2,
                        "linecolor": "white",
                        "showbackground": true,
                        "ticks": "",
                        "zerolinecolor": "white"
                      },
                      "yaxis": {
                        "backgroundcolor": "#E5ECF6",
                        "gridcolor": "white",
                        "gridwidth": 2,
                        "linecolor": "white",
                        "showbackground": true,
                        "ticks": "",
                        "zerolinecolor": "white"
                      },
                      "zaxis": {
                        "backgroundcolor": "#E5ECF6",
                        "gridcolor": "white",
                        "gridwidth": 2,
                        "linecolor": "white",
                        "showbackground": true,
                        "ticks": "",
                        "zerolinecolor": "white"
                      }
                    },
                    "shapedefaults": {
                      "line": {
                        "color": "#2a3f5f"
                      }
                    },
                    "ternary": {
                      "aaxis": {
                        "gridcolor": "white",
                        "linecolor": "white",
                        "ticks": ""
                      },
                      "baxis": {
                        "gridcolor": "white",
                        "linecolor": "white",
                        "ticks": ""
                      },
                      "bgcolor": "#E5ECF6",
                      "caxis": {
                        "gridcolor": "white",
                        "linecolor": "white",
                        "ticks": ""
                      }
                    },
                    "title": {
                      "x": 0.05
                    },
                    "xaxis": {
                      "automargin": true,
                      "gridcolor": "white",
                      "linecolor": "white",
                      "ticks": "",
                      "title": {
                        "standoff": 15
                      },
                      "zerolinecolor": "white",
                      "zerolinewidth": 2
                    },
                    "yaxis": {
                      "automargin": true,
                      "gridcolor": "white",
                      "linecolor": "white",
                      "ticks": "",
                      "title": {
                        "standoff": 15
                      },
                      "zerolinecolor": "white",
                      "zerolinewidth": 2
                    }
                  }
                },
                "xaxis": {
                  "anchor": "y",
                  "domain": [
                    0,
                    1
                  ],
                  "title": {
                    "text": "x"
                  }
                },
                "yaxis": {
                  "anchor": "x",
                  "domain": [
                    0,
                    1
                  ],
                  "title": {
                    "text": "y"
                  }
                }
              }
            },
            "text/html": [
              "<div>                            <div id=\"eb493ddb-5483-4cfc-a4d7-429f2162a14a\" class=\"plotly-graph-div\" style=\"height:525px; width:100%;\"></div>            <script type=\"text/javascript\">                require([\"plotly\"], function(Plotly) {                    window.PLOTLYENV=window.PLOTLYENV || {};                                    if (document.getElementById(\"eb493ddb-5483-4cfc-a4d7-429f2162a14a\")) {                    Plotly.newPlot(                        \"eb493ddb-5483-4cfc-a4d7-429f2162a14a\",                        [{\"hovertemplate\":\"x=%{x}<br>y=%{y}<extra></extra>\",\"legendgroup\":\"\",\"marker\":{\"color\":\"#636efa\",\"symbol\":\"circle\"},\"mode\":\"markers\",\"name\":\"\",\"orientation\":\"v\",\"showlegend\":false,\"x\":[106.04,103.51,82.69,108.23,116.11,116.26,92.89,116.46,111.23,48.95,41.5,78.98,102.68,63.54,92.67,49.36,59.45,89.51,91.84,70.88,115.21,60.42,119.57,66.0,118.7,37.7,88.29,56.9,87.75,101.31,82.85,65.84,96.94,68.87,33.47,60.72,100.98,106.64,109.98,84.89,76.32,100.53,117.47,86.73,115.8,69.96,98.35,84.64,118.49,94.12,89.33,82.59,100.33,117.05,85.69,59.6,108.99,95.84,118.57,50.12,80.26,74.58,57.69,60.26,115.93,88.84,92.82,89.15,96.69,114.66,114.56,60.02,91.63,119.06,98.77,88.12,59.78,95.71,74.45,95.53,87.85,109.58,19.17,107.31,107.27,93.99,83.67,73.73,84.72,75.63,78.52,77.17,51.31,46.94,102.65,84.04,108.2,96.42,115.34,70.3],\"xaxis\":\"x\",\"y\":[8.0,1.0,13.0,4.0,1.0,2.0,11.0,1.0,4.0,15.0,18.0,7.0,6.0,17.0,9.0,20.0,16.0,3.0,5.0,11.0,2.0,18.0,3.0,13.0,1.0,17.0,5.0,16.0,7.0,4.0,10.0,15.0,5.0,9.0,23.0,12.0,9.0,7.0,1.0,7.0,6.0,4.0,1.0,8.0,1.0,13.0,9.0,6.0,2.0,11.0,11.0,10.0,8.0,1.0,13.0,16.0,1.0,5.0,4.0,19.0,12.0,10.0,13.0,12.0,2.0,3.0,4.0,7.0,8.0,3.0,1.0,16.0,2.0,1.0,2.0,5.0,15.0,2.0,8.0,11.0,5.0,1.0,26.0,4.0,1.0,10.0,7.0,10.0,7.0,13.0,11.0,12.0,16.0,14.0,2.0,5.0,4.0,4.0,5.0,13.0],\"yaxis\":\"y\",\"type\":\"scatter\"},{\"x\":[106.04,103.51,82.69,108.23,116.11,116.26,92.89,116.46,111.23,48.95,41.5,78.98,102.68,63.54,92.67,49.36,59.45,89.51,91.84,70.88,115.21,60.42,119.57,66.0,118.7,37.7,88.29,56.9,87.75,101.31,82.85,65.84,96.94,68.87,33.47,60.72,100.98,106.64,109.98,84.89,76.32,100.53,117.47,86.73,115.8,69.96,98.35,84.64,118.49,94.12,89.33,82.59,100.33,117.05,85.69,59.6,108.99,95.84,118.57,50.12,80.26,74.58,57.69,60.26,115.93,88.84,92.82,89.15,96.69,114.66,114.56,60.02,91.63,119.06,98.77,88.12,59.78,95.71,74.45,95.53,87.85,109.58,19.17,107.31,107.27,93.99,83.67,73.73,84.72,75.63,78.52,77.17,51.31,46.94,102.65,84.04,108.2,96.42,115.34,70.3],\"y\":[3.832387043552167,4.4077529321040565,9.142582101926312,3.33434305306654,1.542294356707302,1.508181754619244,6.822925159938464,1.462698285168507,2.6520910113054086,16.815643398266506,18.509902635306652,9.986300460237576,4.596509330324636,13.497624301834868,6.8729569763342795,16.722402285892485,14.427761252102545,7.591595793656005,7.061713374554859,11.828380972992633,1.7469699692356428,14.207166425266445,0.7554303352094642,12.938177627590742,0.9532834273201907,19.374088554870752,7.86904495730553,15.007675487599508,7.991850324822536,4.908071096062219,9.106195326365718,12.974564403151334,5.901884903560937,12.285489840972591,20.336063933753948,14.138941221090333,4.9831188206559425,3.695936635199942,2.936362695372548,8.64226393796815,10.591230603932448,5.085456626920113,1.2330067644422549,8.22381601902132,1.6127937343559537,12.037604932466047,5.581226443933204,8.699118274781576,1.001041070243474,6.543201822816396,7.632530916161674,9.16532383665168,5.130940096370857,1.3285220502888144,8.46033006016518,14.39364865001449,3.161505869153725,6.152043985540015,0.9828476824631771,16.549565101979667,9.695206255752826,10.986936788153905,14.828015783269077,14.24355320082704,1.5832294792129673,7.743965416315991,6.838844374246225,7.673466038667339,5.9587392403743635,1.8720495102251853,1.8947912449505537,14.29813336416793,7.109471017478139,0.8714131823088564,5.4857111580866444,7.907705906338663,14.35271352750882,6.181608240683001,11.016501043296884,6.222543363188667,7.969108590097164,3.0273296342740323,23.58813199948201,3.543567012539956,3.5526637064301063,6.572766077959383,8.919713101617674,11.180241533319556,8.680924887001279,10.74814857353751,10.090912439974286,10.397925858766794,16.27893845874775,17.272752266246464,4.603331850742247,8.8355686831338,3.3411655734841545,6.020141924132865,1.71740571409266,11.960283034399787],\"type\":\"scatter\"}],                        {\"template\":{\"data\":{\"histogram2dcontour\":[{\"type\":\"histogram2dcontour\",\"colorbar\":{\"outlinewidth\":0,\"ticks\":\"\"},\"colorscale\":[[0.0,\"#0d0887\"],[0.1111111111111111,\"#46039f\"],[0.2222222222222222,\"#7201a8\"],[0.3333333333333333,\"#9c179e\"],[0.4444444444444444,\"#bd3786\"],[0.5555555555555556,\"#d8576b\"],[0.6666666666666666,\"#ed7953\"],[0.7777777777777778,\"#fb9f3a\"],[0.8888888888888888,\"#fdca26\"],[1.0,\"#f0f921\"]]}],\"choropleth\":[{\"type\":\"choropleth\",\"colorbar\":{\"outlinewidth\":0,\"ticks\":\"\"}}],\"histogram2d\":[{\"type\":\"histogram2d\",\"colorbar\":{\"outlinewidth\":0,\"ticks\":\"\"},\"colorscale\":[[0.0,\"#0d0887\"],[0.1111111111111111,\"#46039f\"],[0.2222222222222222,\"#7201a8\"],[0.3333333333333333,\"#9c179e\"],[0.4444444444444444,\"#bd3786\"],[0.5555555555555556,\"#d8576b\"],[0.6666666666666666,\"#ed7953\"],[0.7777777777777778,\"#fb9f3a\"],[0.8888888888888888,\"#fdca26\"],[1.0,\"#f0f921\"]]}],\"heatmap\":[{\"type\":\"heatmap\",\"colorbar\":{\"outlinewidth\":0,\"ticks\":\"\"},\"colorscale\":[[0.0,\"#0d0887\"],[0.1111111111111111,\"#46039f\"],[0.2222222222222222,\"#7201a8\"],[0.3333333333333333,\"#9c179e\"],[0.4444444444444444,\"#bd3786\"],[0.5555555555555556,\"#d8576b\"],[0.6666666666666666,\"#ed7953\"],[0.7777777777777778,\"#fb9f3a\"],[0.8888888888888888,\"#fdca26\"],[1.0,\"#f0f921\"]]}],\"heatmapgl\":[{\"type\":\"heatmapgl\",\"colorbar\":{\"outlinewidth\":0,\"ticks\":\"\"},\"colorscale\":[[0.0,\"#0d0887\"],[0.1111111111111111,\"#46039f\"],[0.2222222222222222,\"#7201a8\"],[0.3333333333333333,\"#9c179e\"],[0.4444444444444444,\"#bd3786\"],[0.5555555555555556,\"#d8576b\"],[0.6666666666666666,\"#ed7953\"],[0.7777777777777778,\"#fb9f3a\"],[0.8888888888888888,\"#fdca26\"],[1.0,\"#f0f921\"]]}],\"contourcarpet\":[{\"type\":\"contourcarpet\",\"colorbar\":{\"outlinewidth\":0,\"ticks\":\"\"}}],\"contour\":[{\"type\":\"contour\",\"colorbar\":{\"outlinewidth\":0,\"ticks\":\"\"},\"colorscale\":[[0.0,\"#0d0887\"],[0.1111111111111111,\"#46039f\"],[0.2222222222222222,\"#7201a8\"],[0.3333333333333333,\"#9c179e\"],[0.4444444444444444,\"#bd3786\"],[0.5555555555555556,\"#d8576b\"],[0.6666666666666666,\"#ed7953\"],[0.7777777777777778,\"#fb9f3a\"],[0.8888888888888888,\"#fdca26\"],[1.0,\"#f0f921\"]]}],\"surface\":[{\"type\":\"surface\",\"colorbar\":{\"outlinewidth\":0,\"ticks\":\"\"},\"colorscale\":[[0.0,\"#0d0887\"],[0.1111111111111111,\"#46039f\"],[0.2222222222222222,\"#7201a8\"],[0.3333333333333333,\"#9c179e\"],[0.4444444444444444,\"#bd3786\"],[0.5555555555555556,\"#d8576b\"],[0.6666666666666666,\"#ed7953\"],[0.7777777777777778,\"#fb9f3a\"],[0.8888888888888888,\"#fdca26\"],[1.0,\"#f0f921\"]]}],\"mesh3d\":[{\"type\":\"mesh3d\",\"colorbar\":{\"outlinewidth\":0,\"ticks\":\"\"}}],\"scatter\":[{\"fillpattern\":{\"fillmode\":\"overlay\",\"size\":10,\"solidity\":0.2},\"type\":\"scatter\"}],\"parcoords\":[{\"type\":\"parcoords\",\"line\":{\"colorbar\":{\"outlinewidth\":0,\"ticks\":\"\"}}}],\"scatterpolargl\":[{\"type\":\"scatterpolargl\",\"marker\":{\"colorbar\":{\"outlinewidth\":0,\"ticks\":\"\"}}}],\"bar\":[{\"error_x\":{\"color\":\"#2a3f5f\"},\"error_y\":{\"color\":\"#2a3f5f\"},\"marker\":{\"line\":{\"color\":\"#E5ECF6\",\"width\":0.5},\"pattern\":{\"fillmode\":\"overlay\",\"size\":10,\"solidity\":0.2}},\"type\":\"bar\"}],\"scattergeo\":[{\"type\":\"scattergeo\",\"marker\":{\"colorbar\":{\"outlinewidth\":0,\"ticks\":\"\"}}}],\"scatterpolar\":[{\"type\":\"scatterpolar\",\"marker\":{\"colorbar\":{\"outlinewidth\":0,\"ticks\":\"\"}}}],\"histogram\":[{\"marker\":{\"pattern\":{\"fillmode\":\"overlay\",\"size\":10,\"solidity\":0.2}},\"type\":\"histogram\"}],\"scattergl\":[{\"type\":\"scattergl\",\"marker\":{\"colorbar\":{\"outlinewidth\":0,\"ticks\":\"\"}}}],\"scatter3d\":[{\"type\":\"scatter3d\",\"line\":{\"colorbar\":{\"outlinewidth\":0,\"ticks\":\"\"}},\"marker\":{\"colorbar\":{\"outlinewidth\":0,\"ticks\":\"\"}}}],\"scattermapbox\":[{\"type\":\"scattermapbox\",\"marker\":{\"colorbar\":{\"outlinewidth\":0,\"ticks\":\"\"}}}],\"scatterternary\":[{\"type\":\"scatterternary\",\"marker\":{\"colorbar\":{\"outlinewidth\":0,\"ticks\":\"\"}}}],\"scattercarpet\":[{\"type\":\"scattercarpet\",\"marker\":{\"colorbar\":{\"outlinewidth\":0,\"ticks\":\"\"}}}],\"carpet\":[{\"aaxis\":{\"endlinecolor\":\"#2a3f5f\",\"gridcolor\":\"white\",\"linecolor\":\"white\",\"minorgridcolor\":\"white\",\"startlinecolor\":\"#2a3f5f\"},\"baxis\":{\"endlinecolor\":\"#2a3f5f\",\"gridcolor\":\"white\",\"linecolor\":\"white\",\"minorgridcolor\":\"white\",\"startlinecolor\":\"#2a3f5f\"},\"type\":\"carpet\"}],\"table\":[{\"cells\":{\"fill\":{\"color\":\"#EBF0F8\"},\"line\":{\"color\":\"white\"}},\"header\":{\"fill\":{\"color\":\"#C8D4E3\"},\"line\":{\"color\":\"white\"}},\"type\":\"table\"}],\"barpolar\":[{\"marker\":{\"line\":{\"color\":\"#E5ECF6\",\"width\":0.5},\"pattern\":{\"fillmode\":\"overlay\",\"size\":10,\"solidity\":0.2}},\"type\":\"barpolar\"}],\"pie\":[{\"automargin\":true,\"type\":\"pie\"}]},\"layout\":{\"autotypenumbers\":\"strict\",\"colorway\":[\"#636efa\",\"#EF553B\",\"#00cc96\",\"#ab63fa\",\"#FFA15A\",\"#19d3f3\",\"#FF6692\",\"#B6E880\",\"#FF97FF\",\"#FECB52\"],\"font\":{\"color\":\"#2a3f5f\"},\"hovermode\":\"closest\",\"hoverlabel\":{\"align\":\"left\"},\"paper_bgcolor\":\"white\",\"plot_bgcolor\":\"#E5ECF6\",\"polar\":{\"bgcolor\":\"#E5ECF6\",\"angularaxis\":{\"gridcolor\":\"white\",\"linecolor\":\"white\",\"ticks\":\"\"},\"radialaxis\":{\"gridcolor\":\"white\",\"linecolor\":\"white\",\"ticks\":\"\"}},\"ternary\":{\"bgcolor\":\"#E5ECF6\",\"aaxis\":{\"gridcolor\":\"white\",\"linecolor\":\"white\",\"ticks\":\"\"},\"baxis\":{\"gridcolor\":\"white\",\"linecolor\":\"white\",\"ticks\":\"\"},\"caxis\":{\"gridcolor\":\"white\",\"linecolor\":\"white\",\"ticks\":\"\"}},\"coloraxis\":{\"colorbar\":{\"outlinewidth\":0,\"ticks\":\"\"}},\"colorscale\":{\"sequential\":[[0.0,\"#0d0887\"],[0.1111111111111111,\"#46039f\"],[0.2222222222222222,\"#7201a8\"],[0.3333333333333333,\"#9c179e\"],[0.4444444444444444,\"#bd3786\"],[0.5555555555555556,\"#d8576b\"],[0.6666666666666666,\"#ed7953\"],[0.7777777777777778,\"#fb9f3a\"],[0.8888888888888888,\"#fdca26\"],[1.0,\"#f0f921\"]],\"sequentialminus\":[[0.0,\"#0d0887\"],[0.1111111111111111,\"#46039f\"],[0.2222222222222222,\"#7201a8\"],[0.3333333333333333,\"#9c179e\"],[0.4444444444444444,\"#bd3786\"],[0.5555555555555556,\"#d8576b\"],[0.6666666666666666,\"#ed7953\"],[0.7777777777777778,\"#fb9f3a\"],[0.8888888888888888,\"#fdca26\"],[1.0,\"#f0f921\"]],\"diverging\":[[0,\"#8e0152\"],[0.1,\"#c51b7d\"],[0.2,\"#de77ae\"],[0.3,\"#f1b6da\"],[0.4,\"#fde0ef\"],[0.5,\"#f7f7f7\"],[0.6,\"#e6f5d0\"],[0.7,\"#b8e186\"],[0.8,\"#7fbc41\"],[0.9,\"#4d9221\"],[1,\"#276419\"]]},\"xaxis\":{\"gridcolor\":\"white\",\"linecolor\":\"white\",\"ticks\":\"\",\"title\":{\"standoff\":15},\"zerolinecolor\":\"white\",\"automargin\":true,\"zerolinewidth\":2},\"yaxis\":{\"gridcolor\":\"white\",\"linecolor\":\"white\",\"ticks\":\"\",\"title\":{\"standoff\":15},\"zerolinecolor\":\"white\",\"automargin\":true,\"zerolinewidth\":2},\"scene\":{\"xaxis\":{\"backgroundcolor\":\"#E5ECF6\",\"gridcolor\":\"white\",\"linecolor\":\"white\",\"showbackground\":true,\"ticks\":\"\",\"zerolinecolor\":\"white\",\"gridwidth\":2},\"yaxis\":{\"backgroundcolor\":\"#E5ECF6\",\"gridcolor\":\"white\",\"linecolor\":\"white\",\"showbackground\":true,\"ticks\":\"\",\"zerolinecolor\":\"white\",\"gridwidth\":2},\"zaxis\":{\"backgroundcolor\":\"#E5ECF6\",\"gridcolor\":\"white\",\"linecolor\":\"white\",\"showbackground\":true,\"ticks\":\"\",\"zerolinecolor\":\"white\",\"gridwidth\":2}},\"shapedefaults\":{\"line\":{\"color\":\"#2a3f5f\"}},\"annotationdefaults\":{\"arrowcolor\":\"#2a3f5f\",\"arrowhead\":0,\"arrowwidth\":1},\"geo\":{\"bgcolor\":\"white\",\"landcolor\":\"#E5ECF6\",\"subunitcolor\":\"white\",\"showland\":true,\"showlakes\":true,\"lakecolor\":\"white\"},\"title\":{\"x\":0.05},\"mapbox\":{\"style\":\"light\"}}},\"xaxis\":{\"anchor\":\"y\",\"domain\":[0.0,1.0],\"title\":{\"text\":\"x\"}},\"yaxis\":{\"anchor\":\"x\",\"domain\":[0.0,1.0],\"title\":{\"text\":\"y\"}},\"legend\":{\"tracegroupgap\":0},\"margin\":{\"t\":60}},                        {\"responsive\": true}                    ).then(function(){\n",
              "                            \n",
              "var gd = document.getElementById('eb493ddb-5483-4cfc-a4d7-429f2162a14a');\n",
              "var x = new MutationObserver(function (mutations, observer) {{\n",
              "        var display = window.getComputedStyle(gd).display;\n",
              "        if (!display || display === 'none') {{\n",
              "            console.log([gd, 'removed!']);\n",
              "            Plotly.purge(gd);\n",
              "            observer.disconnect();\n",
              "        }}\n",
              "}});\n",
              "\n",
              "// Listen for the removal of the full notebook cells\n",
              "var notebookContainer = gd.closest('#notebook-container');\n",
              "if (notebookContainer) {{\n",
              "    x.observe(notebookContainer, {childList: true});\n",
              "}}\n",
              "\n",
              "// Listen for the clearing of the current output cell\n",
              "var outputEl = gd.closest('.output');\n",
              "if (outputEl) {{\n",
              "    x.observe(outputEl, {childList: true});\n",
              "}}\n",
              "\n",
              "                        })                };                });            </script>        </div>"
            ]
          },
          "metadata": {},
          "output_type": "display_data"
        }
      ],
      "source": [
        "grafico = pt.scatter(x=x.ravel(), y=y)\n",
        "grafico.add_scatter(x=x.ravel(), y=previsao)\n",
        "grafico.show()"
      ]
    },
    {
      "cell_type": "markdown",
      "id": "33376ced",
      "metadata": {
        "id": "33376ced"
      },
      "source": [
        "# Calculando o número de dias a partir do valor do frete\n"
      ]
    },
    {
      "cell_type": "code",
      "execution_count": null,
      "id": "54878080",
      "metadata": {
        "id": "54878080",
        "outputId": "b5e7fbde-5793-45dc-94cd-97085a7b6240"
      },
      "outputs": [
        {
          "data": {
            "text/plain": [
              "array([15.89915149])"
            ]
          },
          "execution_count": 74,
          "metadata": {},
          "output_type": "execute_result"
        }
      ],
      "source": [
        "valor = 52.98\n",
        "\n",
        "modelo.predict([[valor]])\n"
      ]
    },
    {
      "cell_type": "markdown",
      "id": "8e26680c",
      "metadata": {
        "id": "8e26680c"
      },
      "source": [
        "# Avaliação do modelo"
      ]
    },
    {
      "cell_type": "code",
      "execution_count": null,
      "id": "ca51cbaf",
      "metadata": {
        "id": "ca51cbaf",
        "outputId": "8423cfbc-c960-48ce-8d64-4b7a26ea54aa"
      },
      "outputs": [
        {
          "data": {
            "text/plain": [
              "0.8111671052762233"
            ]
          },
          "execution_count": 63,
          "metadata": {},
          "output_type": "execute_result"
        }
      ],
      "source": [
        "# Calculando a acurácia do modelo\n",
        "modelo.score(x,y)"
      ]
    },
    {
      "cell_type": "code",
      "execution_count": null,
      "id": "14365916",
      "metadata": {
        "id": "14365916",
        "outputId": "7eaf5f9a-450d-45df-cc67-0fc9e958d8ba"
      },
      "outputs": [
        {
          "data": {
            "text/plain": [
              "2.091861170350245"
            ]
          },
          "execution_count": 64,
          "metadata": {},
          "output_type": "execute_result"
        }
      ],
      "source": [
        "# Calculando o Mean absolut error\n",
        "mean_absolute_error(y,previsao)"
      ]
    },
    {
      "cell_type": "code",
      "execution_count": null,
      "id": "741d8acb",
      "metadata": {
        "id": "741d8acb",
        "outputId": "5a1ec3ba-9ee9-4661-bcb8-f32ecc0a6229"
      },
      "outputs": [
        {
          "name": "stdout",
          "output_type": "stream",
          "text": [
            "6.145679858522149\n"
          ]
        }
      ],
      "source": [
        "#calculando o Mean Squared Error\n",
        "MSE= mean_squared_error(y, previsao)\n",
        "print(MSE)"
      ]
    },
    {
      "cell_type": "code",
      "execution_count": null,
      "id": "63a5c475",
      "metadata": {
        "id": "63a5c475",
        "outputId": "1beed4f2-91b0-42b0-f58e-f38347cb77d0"
      },
      "outputs": [
        {
          "data": {
            "text/plain": [
              "2.479048175917957"
            ]
          },
          "execution_count": 68,
          "metadata": {},
          "output_type": "execute_result"
        }
      ],
      "source": [
        "# Calculando o Root Mean squared error\n",
        "np.sqrt(MSE)"
      ]
    },
    {
      "cell_type": "code",
      "execution_count": null,
      "id": "16507782",
      "metadata": {
        "id": "16507782"
      },
      "outputs": [],
      "source": []
    }
  ],
  "metadata": {
    "kernelspec": {
      "display_name": "Python 3 (ipykernel)",
      "language": "python",
      "name": "python3"
    },
    "language_info": {
      "codemirror_mode": {
        "name": "ipython",
        "version": 3
      },
      "file_extension": ".py",
      "mimetype": "text/x-python",
      "name": "python",
      "nbconvert_exporter": "python",
      "pygments_lexer": "ipython3",
      "version": "3.10.9"
    },
    "colab": {
      "provenance": [],
      "include_colab_link": true
    }
  },
  "nbformat": 4,
  "nbformat_minor": 5
}